{
 "cells": [
  {
   "cell_type": "markdown",
   "id": "157ab462-415a-462e-96f1-dd22f6177634",
   "metadata": {},
   "source": [
    "# Interview with the winners of the AI in Education Hackathon"
   ]
  },
  {
   "cell_type": "markdown",
   "id": "bd9d800c-a9c0-473b-b961-0c19f0e7c837",
   "metadata": {},
   "source": [
    "<BR>\n",
    "\n",
    "Adelson de Araujo, October 2022.\n",
    "\n",
    "<BR>\n",
    "\n",
    "> *A team of chemistry teachers proposed an AI system for automated feedback on handwritten chemistry.* \n",
    "    \n",
    "<BR>\n",
    "    \n",
    "On October 5, 6, and 7, we organized an Artificial Intelligence Hackathon about giving feedback on education. We look back on a successful event and hope that all participants had a fun and interesting few days. Seven teams participated during the Hackathon: Cito, chemistry teachers, teachers from Carmel, researchers within BMS, study association Serpentine van de TUEindhoven, Pre-University and 4TU. In three days, they solved a self-chosen case in the theme of the hackathon. \n",
    "\n",
    "During the hackathon, the teams spent three days solving one specific case. The theme of this AI hackathon was feedback. The teams chose a case within this theme, which they solved with the help of experts (Jedis). The final ideas were presented on the last day. After which the jury, consisting of Maurice van Keulen, Bernard Veldkamp, Bertine van Deyzen, and Duuk Baten, chose a winner. In addition, there were also various inspiration sessions during the event. \n",
    "\n",
    "The chemistry teachers were finally crowned as the winners! The team was formed by Eline Velthof (Canisius College), Anja Groeneweg (Het Twickel College), Monique Theussing (Pius X College), Jeannet Brouwer (Scholengemeenschap Marianum), Leontine de Graaf (University of Twente and CSG Het Noordik), and Talitha Visser (University of Twente).\n",
    "\n",
    "We interviewed them to find out more about their project, and here is what they told us.\n",
    "\n",
    "\n",
    "\n",
    "\n",
    "**Could you explain how you conceptualized the idea?**\n",
    "\n",
    "> *As chemistry teachers, we wanted to work on a diagnostic test for third grade pupils of secondary education to learn and practice how to balance chemical equations. The pupils learn this in the third grade, and they still have to do this in the sixth grade. It's very important that students can make equal equations because that's the starting point for further calculations I chemistry. Right now, in the classroom, it takes a lot of time for the teachers to check if the pupils written answers to chemical equations are correct. And to find out which sort of mistakes they make or that they already able to  solve the equations well. So for each kind of misconception, as teachers, we wanted to create other sets of follow-up questions so that the pupils can practice with the misconceptions. We aim an application where pupils can practice over and over with the right feedback and more practising questions depending on the misconceptions and mistakes. It saves a lot of time for the teachers if a computer application can be used. \n",
    "During this hackathon we thought, 'We are on the right track.' We programmed some material to be typed. But it was more like an algorithm and not AI. One of us started to write down chemical formulas handwritten on the poster board. All of a sudden, we thought, 'Chemical equations are usually handwritten, not typed. We should first focus on how pupils write all these chemical formulas in making balancing equation in combination with all the mistakes they can make.' One of the Jedis said AI can definitely help with the handwritten part. The challenge with chemical formulas is that incorrect use of letters (small or capital like CO versus Co) or the incorrect placement of a plus + (for instance Na+ versus Na + ) gives a very different meaning in chemistry to what is written. \n",
    "\n",
    "\n",
    "**Let’s say that you have an algorithm that reliably identifies mistakes or misconceptions in handwritten equations. Does the system show them the right answer or what do you plan to do with that?**\n",
    "\n",
    "> No, the system does not show the right answer but gives feedback on particular misconceptions. For instance, 'you have counted numbers of carbon atoms wrong, try it again.' The feedback given is a diagnosis and a call to action. But it's not the showing of the right answer. We expect that when they implement the feedback they have been given, they will get closer to giving the right balance and improving their equations. When they give the right equation, then the feedback will be 'good job'.\n",
    "Also, we plan to suggest new questions that are comparable to the previous ones to see if it was accidental or if they really know what they're doing. For example, they did a misconception on an equation and they fixed the problem, now the next question will be a similar one (like Duolingo does). We could use AI to suggest these next questions for each student in particular.\n",
    "Specifically about the hackathon, what was the most challenging part of it? \n",
    "We were very beginners. We didn't know much about it. We thought we were doing AI but it was programming an algorithm and not AI. Also the programming was new.\n",
    "\n",
    "\n",
    "**But do you think your lack of knowledge of AI was an obstacle for you to think about your idea?**\n",
    "\n",
    "> *No, because otherwise, we weren't sitting in the winning place. Maybe the big challenge was to know what AI could do. We didn't know this part. We were trying to figure out the solution to use for our problem, but we didn't know if it was feasible. In this issue, the inspiration sessions and the Jedis were very helpful.*\n",
    "\n",
    "\n",
    "**What surprised you most about the hackathon?**\n",
    "\n",
    "> *First, we were surprised that we won! Even if we did not win, we would go further with this in our own professional learning network. It was already fun because we were already making some contacts and learning a lot together. But also, the interaction with other groups and Jedis. One of the people from Serpentine came to us and said, oh, I found this database of formulas already. It's not a big database, but it is something. The Jedis helped with \"you can do this or you can do that\". By asking the right questions they helped us to puzzle out the AI part.* \n",
    "\n",
    "\n",
    "**What advice would you give to future competitors that will do a similar kind of hackathon?**\n",
    "\n",
    "> *I think you must have a problem. Start with your own interests and be open to a lot of ideas from others. We were not afraid to change our initial ideas. Don't be afraid of a lack of knowledge; this can be solved during the process.\n",
    "Anything else you want to share about how you felt about the hackathon experience? \n",
    "It's really fun to be with a group of people and make an intense point of sight. Work intensively for a couple of days on one project together. Normally we also work in groups, but what makes a difference, I think, is that it made us a little nervous. There is a very short deadline to show others what we have done. But also, it is all the energy and all the atmosphere in such a way for you to create something really practical.* \n",
    "\n",
    "\n",
    "**Thank you very much for sharing your experience. I wish all the best for your project.**\n",
    "\n",
    "> *Thanks, and thank you for interviewing us.*\n",
    "\n",
    "\n",
    "\n",
    "As a takeaway, we noticed that their teaching expertise, the support of AI experts (by asking them the right questions), and persistence in connecting with particular students' needs were decisive factors, leading the winners to make a nice final presentation. But also, the \"chemistry\" between the group members and their individual motivation to learn during the hackathon was key to their success. Future hackathon participants should definitely account for those qualities.\n",
    "Their project will continue to be developed in their own professional learning community, but now they also have an opportunity to find data scientists to help them execute the idea. Please contact Talitha Visser if you want to know more about their professional learning network on chemistry or if you want to cooperate with them.\n"
   ]
  }
 ],
 "metadata": {
  "kernelspec": {
   "display_name": "Python 3",
   "language": "python",
   "name": "python3"
  },
  "language_info": {
   "codemirror_mode": {
    "name": "ipython",
    "version": 3
   },
   "file_extension": ".py",
   "mimetype": "text/x-python",
   "name": "python",
   "nbconvert_exporter": "python",
   "pygments_lexer": "ipython3",
   "version": "3.8.3"
  }
 },
 "nbformat": 4,
 "nbformat_minor": 5
}
